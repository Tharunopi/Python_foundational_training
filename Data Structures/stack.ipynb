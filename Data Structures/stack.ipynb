{
 "cells": [
  {
   "cell_type": "code",
   "execution_count": 9,
   "id": "ce0e5dad-189d-42fe-88ae-e5ef58c196e2",
   "metadata": {},
   "outputs": [
    {
     "name": "stdout",
     "output_type": "stream",
     "text": [
      "['tharun', 'op']\n",
      "['tharun', 'op']\n"
     ]
    }
   ],
   "source": [
    "class Stack:\n",
    "\n",
    "    def __init__(self, value:list):\n",
    "        self.value = value\n",
    "        if self.value is None:\n",
    "            self.value = []\n",
    "\n",
    "    def push(self, element):\n",
    "        self.value = self.value + [element]\n",
    "        print(self.value)\n",
    "\n",
    "    def pop(self):\n",
    "        if len(self.value) >= 1:\n",
    "            self.value.pop(-1)\n",
    "            print(self.value)\n",
    "        else:\n",
    "            print(\"no elements to pop\")\n",
    "\n",
    "    def empty(self):\n",
    "        if self.value is None:\n",
    "            print(\"Empty\")\n",
    "        else:\n",
    "            print(\"Something inside the stack\")\n",
    "\n",
    "    def top(self):\n",
    "        if self.value:\n",
    "            return self.value[-1]\n",
    "\n",
    "    def display(self):\n",
    "        print(self.value)\n",
    "\n",
    "a = Stack([\"tharun\"])\n",
    "a.push('op')\n",
    "a.display()\n"
   ]
  },
  {
   "cell_type": "code",
   "execution_count": null,
   "id": "4aac01f7-5f98-482d-b7d0-ade8815a45bd",
   "metadata": {},
   "outputs": [],
   "source": []
  }
 ],
 "metadata": {
  "kernelspec": {
   "display_name": "Python 3 (ipykernel)",
   "language": "python",
   "name": "python3"
  },
  "language_info": {
   "codemirror_mode": {
    "name": "ipython",
    "version": 3
   },
   "file_extension": ".py",
   "mimetype": "text/x-python",
   "name": "python",
   "nbconvert_exporter": "python",
   "pygments_lexer": "ipython3",
   "version": "3.11.4"
  }
 },
 "nbformat": 4,
 "nbformat_minor": 5
}
