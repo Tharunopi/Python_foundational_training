{
 "cells": [
  {
   "cell_type": "markdown",
   "id": "ca5e2573-c38d-42ec-8834-1e22a995aaa5",
   "metadata": {},
   "source": [
    "Singly linked lists"
   ]
  },
  {
   "cell_type": "code",
   "execution_count": 7,
   "id": "ecd935af-c97d-4606-b116-f4a3035f205f",
   "metadata": {},
   "outputs": [],
   "source": [
    "class Node:\n",
    "    def __init__(self, value, nexts=None):\n",
    "        self.value = value \n",
    "        self.next = nexts\n",
    "\n",
    "    def __repr__(self):\n",
    "        return str(self.value)\n",
    "b = Node(11)\n",
    "a = Node(10)\n",
    "a.nexts = b"
   ]
  },
  {
   "cell_type": "code",
   "execution_count": null,
   "id": "3837c24c-8f6f-4bf9-8754-b5cc7fa56403",
   "metadata": {},
   "outputs": [],
   "source": []
  }
 ],
 "metadata": {
  "kernelspec": {
   "display_name": "Python 3 (ipykernel)",
   "language": "python",
   "name": "python3"
  },
  "language_info": {
   "codemirror_mode": {
    "name": "ipython",
    "version": 3
   },
   "file_extension": ".py",
   "mimetype": "text/x-python",
   "name": "python",
   "nbconvert_exporter": "python",
   "pygments_lexer": "ipython3",
   "version": "3.11.4"
  }
 },
 "nbformat": 4,
 "nbformat_minor": 5
}
