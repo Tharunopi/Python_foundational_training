{
 "cells": [
  {
   "cell_type": "code",
   "execution_count": 3,
   "id": "c068b211-33f1-40c0-ae8e-6e128072f74b",
   "metadata": {},
   "outputs": [
    {
     "name": "stdout",
     "output_type": "stream",
     "text": [
      "10  is added\n",
      "2\n"
     ]
    }
   ],
   "source": [
    "class Queue:\n",
    "    def __init__(self, value:list=None):\n",
    "        self.value = value\n",
    "        if self.value is None:\n",
    "            self.value = []\n",
    "\n",
    "    def enqueue(self, new):\n",
    "        self.value = self.value + [new]\n",
    "        print(new, \" is added\")\n",
    "\n",
    "    def dequeue(self):\n",
    "        removed = self.value.pop(0)\n",
    "        return removed\n",
    "\n",
    "a = Queue([2, 4, 5, 5])\n",
    "a.enqueue(10)\n",
    "print(a.dequeue())"
   ]
  },
  {
   "cell_type": "code",
   "execution_count": null,
   "id": "f1481f5d-9742-44e8-987a-556612b98ded",
   "metadata": {},
   "outputs": [],
   "source": []
  }
 ],
 "metadata": {
  "kernelspec": {
   "display_name": "Python 3 (ipykernel)",
   "language": "python",
   "name": "python3"
  },
  "language_info": {
   "codemirror_mode": {
    "name": "ipython",
    "version": 3
   },
   "file_extension": ".py",
   "mimetype": "text/x-python",
   "name": "python",
   "nbconvert_exporter": "python",
   "pygments_lexer": "ipython3",
   "version": "3.11.4"
  }
 },
 "nbformat": 4,
 "nbformat_minor": 5
}
