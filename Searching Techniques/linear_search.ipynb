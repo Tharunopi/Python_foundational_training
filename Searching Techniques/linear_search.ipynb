{
 "cells": [
  {
   "cell_type": "code",
   "execution_count": 3,
   "id": "9de3d18d-2b0d-4a6f-a973-cec8c9911e76",
   "metadata": {},
   "outputs": [
    {
     "data": {
      "text/plain": [
       "'Not found'"
      ]
     },
     "execution_count": 3,
     "metadata": {},
     "output_type": "execute_result"
    }
   ],
   "source": [
    "a = [1, 3, 3, 78, 45, 66, 0]\n",
    "\n",
    "def linear_search(a:list, se)->str:\n",
    "    for i in a:\n",
    "        if i == se:\n",
    "            return \"Found\"\n",
    "    return \"Not found\"\n",
    "\n",
    "linear_search(a, 8)"
   ]
  },
  {
   "cell_type": "code",
   "execution_count": null,
   "id": "2ad7b8e3-9d66-4fcc-8b3d-14548b894d1e",
   "metadata": {},
   "outputs": [],
   "source": []
  }
 ],
 "metadata": {
  "kernelspec": {
   "display_name": "Python 3 (ipykernel)",
   "language": "python",
   "name": "python3"
  },
  "language_info": {
   "codemirror_mode": {
    "name": "ipython",
    "version": 3
   },
   "file_extension": ".py",
   "mimetype": "text/x-python",
   "name": "python",
   "nbconvert_exporter": "python",
   "pygments_lexer": "ipython3",
   "version": "3.11.4"
  }
 },
 "nbformat": 4,
 "nbformat_minor": 5
}
