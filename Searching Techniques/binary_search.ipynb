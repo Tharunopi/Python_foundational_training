{
 "cells": [
  {
   "cell_type": "code",
   "execution_count": 4,
   "id": "cc3148c0-cba8-49c6-9748-d86b544a9646",
   "metadata": {},
   "outputs": [
    {
     "data": {
      "text/plain": [
       "'Found'"
      ]
     },
     "execution_count": 4,
     "metadata": {},
     "output_type": "execute_result"
    }
   ],
   "source": [
    "a = [0, 1, 3, 3, 45,66, 78]\n",
    "\n",
    "def binary_search_recurssive(a, left, right, target):\n",
    "    if left > right:\n",
    "        return \"Not Found\"\n",
    "\n",
    "    mid = left + (right - left) // 2\n",
    "\n",
    "    if a[mid] == target:\n",
    "        return \"Found\"\n",
    "    elif a[mid] < target:\n",
    "        return binary_search(a, mid+1, right, target)\n",
    "    else:\n",
    "        return binary_search(a, left, mid-1, target)\n",
    "\n",
    "def binary_search(a, target):\n",
    "    left, right = 0, len(a)-1\n",
    "\n",
    "    while left <= right:\n",
    "        mid = left + (right - left) // 2\n",
    "\n",
    "        if a[mid] == target:\n",
    "            return \"found\"\n",
    "        elif a[mid] < target:\n",
    "            \n",
    "\n",
    "binary_search(a, 0, len(a), 0)"
   ]
  },
  {
   "cell_type": "code",
   "execution_count": null,
   "id": "68e36c37-795a-4b7b-8411-30319987dafc",
   "metadata": {},
   "outputs": [],
   "source": []
  }
 ],
 "metadata": {
  "kernelspec": {
   "display_name": "Python 3 (ipykernel)",
   "language": "python",
   "name": "python3"
  },
  "language_info": {
   "codemirror_mode": {
    "name": "ipython",
    "version": 3
   },
   "file_extension": ".py",
   "mimetype": "text/x-python",
   "name": "python",
   "nbconvert_exporter": "python",
   "pygments_lexer": "ipython3",
   "version": "3.11.4"
  }
 },
 "nbformat": 4,
 "nbformat_minor": 5
}
