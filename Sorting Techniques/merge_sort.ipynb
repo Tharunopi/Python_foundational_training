{
 "cells": [
  {
   "cell_type": "code",
   "execution_count": 1,
   "id": "83970387-7b72-41aa-96f6-95816b433f3d",
   "metadata": {},
   "outputs": [
    {
     "data": {
      "text/plain": [
       "[5, 10, 20, 25, 30, 60, 80, 90, 95, 100]"
      ]
     },
     "execution_count": 1,
     "metadata": {},
     "output_type": "execute_result"
    }
   ],
   "source": [
    "a = [90, 10, 20, 30, 5, 80, 60, 25, 100, 95]\n",
    "\n",
    "def merge_sort(x):\n",
    "    n = len(x)\n",
    "    \n",
    "    if n == 1:                \n",
    "        return x\n",
    "\n",
    "    m = n // 2\n",
    "    l = x[m:]\n",
    "    r = x[:m]\n",
    "\n",
    "    l = merge_sort(l)\n",
    "    r = merge_sort(r)\n",
    "\n",
    "# ----------------------------------------------------------- \n",
    "    \n",
    "    sorted_array = [0] * n\n",
    "\n",
    "    l_len = len(l)\n",
    "    r_len = len(r)\n",
    "\n",
    "    left, right, i = 0, 0, 0\n",
    "\n",
    "    while left < l_len and right < r_len:\n",
    "        if l[left] < r[right]:\n",
    "            sorted_array[i] = l[left]\n",
    "            left += 1\n",
    "        else:\n",
    "            sorted_array[i] = r[right]\n",
    "            right += 1\n",
    "        i += 1\n",
    "\n",
    "    while left < l_len:\n",
    "        sorted_array[i] = l[left]\n",
    "        i += 1\n",
    "        left += 1\n",
    "\n",
    "    while right < r_len:\n",
    "        sorted_array[i] = r[right]\n",
    "        i += 1\n",
    "        right += 1\n",
    "\n",
    "    return sorted_array\n",
    "\n",
    "merge_sort(a)"
   ]
  },
  {
   "cell_type": "code",
   "execution_count": null,
   "id": "ec944032-bf5c-466f-bf40-5537f3a3dcf4",
   "metadata": {},
   "outputs": [],
   "source": []
  }
 ],
 "metadata": {
  "kernelspec": {
   "display_name": "Python 3 (ipykernel)",
   "language": "python",
   "name": "python3"
  },
  "language_info": {
   "codemirror_mode": {
    "name": "ipython",
    "version": 3
   },
   "file_extension": ".py",
   "mimetype": "text/x-python",
   "name": "python",
   "nbconvert_exporter": "python",
   "pygments_lexer": "ipython3",
   "version": "3.11.4"
  }
 },
 "nbformat": 4,
 "nbformat_minor": 5
}
