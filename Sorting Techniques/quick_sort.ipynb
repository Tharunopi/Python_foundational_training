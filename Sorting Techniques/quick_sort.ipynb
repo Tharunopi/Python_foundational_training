{
 "cells": [
  {
   "cell_type": "code",
   "execution_count": 11,
   "id": "90c7ff93-1d7a-4b85-8ddc-feffb4e7a4f2",
   "metadata": {},
   "outputs": [
    {
     "name": "stdout",
     "output_type": "stream",
     "text": [
      "[90, 10, 20, 30, 5, 80, 60, 25] -> [100] -> 95\n",
      "[10, 20, 5] -> [90, 30, 80, 60] -> 25\n",
      "[] -> [10, 20] -> 5\n",
      "[10] -> [] -> 20\n",
      "[30] -> [90, 80] -> 60\n",
      "[] -> [90] -> 80\n",
      "[5, 10, 20, 25, 30, 60, 80, 90, 95, 100]\n"
     ]
    }
   ],
   "source": [
    "a = [90, 10, 20, 30, 5, 80, 60, 25, 100, 95]\n",
    "\n",
    "def quick_sort(x):\n",
    "    n = len(x)\n",
    "    if n <= 1:\n",
    "        return x\n",
    "    \n",
    "    pivot = x[-1]\n",
    "    left = [i for i in x[:-1] if i <= pivot ]\n",
    "    right = [i for i in x[:-1] if i > pivot ]\n",
    "    print(left, \"->\", right, \"->\", pivot)\n",
    "\n",
    "    left = quick_sort(left)\n",
    "    right = quick_sort(right)\n",
    "\n",
    "    return left + [pivot] + right\n",
    "\n",
    "print(quick_sort(a))"
   ]
  },
  {
   "cell_type": "code",
   "execution_count": null,
   "id": "306087f0-5cc1-4d11-804a-872717974056",
   "metadata": {},
   "outputs": [],
   "source": []
  }
 ],
 "metadata": {
  "kernelspec": {
   "display_name": "Python 3 (ipykernel)",
   "language": "python",
   "name": "python3"
  },
  "language_info": {
   "codemirror_mode": {
    "name": "ipython",
    "version": 3
   },
   "file_extension": ".py",
   "mimetype": "text/x-python",
   "name": "python",
   "nbconvert_exporter": "python",
   "pygments_lexer": "ipython3",
   "version": "3.11.4"
  }
 },
 "nbformat": 4,
 "nbformat_minor": 5
}
