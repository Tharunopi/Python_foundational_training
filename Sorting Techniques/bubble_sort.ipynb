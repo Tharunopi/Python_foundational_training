{
 "cells": [
  {
   "cell_type": "code",
   "execution_count": 1,
   "id": "5e20f7a5-7601-43cb-a4c8-9be34ec2a599",
   "metadata": {},
   "outputs": [],
   "source": [
    "a = [90, 10, 20, 30, 5, 80, 60, 25, 100, 95]"
   ]
  },
  {
   "cell_type": "code",
   "execution_count": 30,
   "id": "cb07e0dd-3d00-46ae-adc5-db20191d90d1",
   "metadata": {},
   "outputs": [],
   "source": [
    "def bubble_sort(x):\n",
    "    len_x = len(x)\n",
    "\n",
    "    for i in range(len_x):\n",
    "        if i+1 < len_x and x[i] > x[i+1]:\n",
    "            x[i], x[i+1] = x[i+1], x[i]\n",
    "\n",
    "    print(x)"
   ]
  },
  {
   "cell_type": "code",
   "execution_count": 31,
   "id": "0b853001-6c69-4567-98cc-70c76776502d",
   "metadata": {},
   "outputs": [
    {
     "name": "stdout",
     "output_type": "stream",
     "text": [
      "[5, 10, 20, 25, 30, 60, 80, 90, 95, 100]\n"
     ]
    }
   ],
   "source": [
    "for i in range(len(a)):\n",
    "    bubble_sort(a)"
   ]
  },
  {
   "cell_type": "code",
   "execution_count": null,
   "id": "9be87784-a69a-48ac-b988-ca5a63abd5a5",
   "metadata": {},
   "outputs": [],
   "source": []
  }
 ],
 "metadata": {
  "kernelspec": {
   "display_name": "Python 3 (ipykernel)",
   "language": "python",
   "name": "python3"
  },
  "language_info": {
   "codemirror_mode": {
    "name": "ipython",
    "version": 3
   },
   "file_extension": ".py",
   "mimetype": "text/x-python",
   "name": "python",
   "nbconvert_exporter": "python",
   "pygments_lexer": "ipython3",
   "version": "3.11.4"
  }
 },
 "nbformat": 4,
 "nbformat_minor": 5
}
