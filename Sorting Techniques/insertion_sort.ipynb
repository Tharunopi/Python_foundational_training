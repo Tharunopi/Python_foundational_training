{
 "cells": [
  {
   "cell_type": "code",
   "execution_count": 14,
   "id": "a3513572-d54b-40ad-aaec-c4dc1d4e066a",
   "metadata": {},
   "outputs": [
    {
     "name": "stdout",
     "output_type": "stream",
     "text": [
      "[5, 10, 20, 25, 30, 60, 80, 90, 95, 100]\n"
     ]
    }
   ],
   "source": [
    "a = [90, 10, 20, 30, 5, 80, 60, 25, 100, 95]\n",
    "\n",
    "def swap(arr, m, n):\n",
    "    arr[m], arr[n] = arr[n], arr[m]\n",
    "\n",
    "def insertion_sort_extra_space(x):\n",
    "    len_x = len(x)\n",
    "    new_x = []\n",
    "    \n",
    "    for i in range(len_x):\n",
    "        mini = min(x)\n",
    "        new_x.append(mini)\n",
    "        x.remove(mini)\n",
    "\n",
    "    print(new_x)\n",
    "\n",
    "def insertion_sort_optimal(x):\n",
    "    len_x = len(x)\n",
    "\n",
    "    for i in range(len_x):\n",
    "        unsorted_min = x.index(min(x[i:]))\n",
    "        swap(x, unsorted_min, i)\n",
    "\n",
    "    print(x)\n",
    "\n",
    "insertion_sort_optimal(a)"
   ]
  },
  {
   "cell_type": "code",
   "execution_count": null,
   "id": "7b5b0174-af4b-432c-85c6-e4f13b39b382",
   "metadata": {},
   "outputs": [],
   "source": []
  }
 ],
 "metadata": {
  "kernelspec": {
   "display_name": "Python 3 (ipykernel)",
   "language": "python",
   "name": "python3"
  },
  "language_info": {
   "codemirror_mode": {
    "name": "ipython",
    "version": 3
   },
   "file_extension": ".py",
   "mimetype": "text/x-python",
   "name": "python",
   "nbconvert_exporter": "python",
   "pygments_lexer": "ipython3",
   "version": "3.11.4"
  }
 },
 "nbformat": 4,
 "nbformat_minor": 5
}
